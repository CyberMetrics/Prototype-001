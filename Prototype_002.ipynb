{
  "nbformat": 4,
  "nbformat_minor": 0,
  "metadata": {
    "colab": {
      "provenance": [],
      "authorship_tag": "ABX9TyO28aEajPWpnDXCFVTH7MFV",
      "include_colab_link": true
    },
    "kernelspec": {
      "name": "python3",
      "display_name": "Python 3"
    },
    "language_info": {
      "name": "python"
    }
  },
  "cells": [
    {
      "cell_type": "markdown",
      "metadata": {
        "id": "view-in-github",
        "colab_type": "text"
      },
      "source": [
        "<a href=\"https://colab.research.google.com/github/CyberMetrics/Prototypes/blob/main/Prototype_002.ipynb\" target=\"_parent\"><img src=\"https://colab.research.google.com/assets/colab-badge.svg\" alt=\"Open In Colab\"/></a>"
      ]
    },
    {
      "cell_type": "markdown",
      "source": [
        "A Base Model That Can Be Able To Do Three At a Time(Anomaly,Classify,Time Series)"
      ],
      "metadata": {
        "id": "gcEeaBXzPZzG"
      }
    },
    {
      "cell_type": "code",
      "source": [
        "import pandas as pd\n",
        "import numpy as np\n",
        "from collections import Counter\n",
        "\n",
        "# ----------------- Logistic Regression from scratch -----------------\n",
        "class SimpleLogisticRegression:\n",
        "    def __init__(self, lr=0.01, epochs=1000):\n",
        "        self.lr = lr\n",
        "        self.epochs = epochs\n",
        "        self.w = None\n",
        "        self.b = 0\n",
        "\n",
        "    def _sigmoid(self, z):\n",
        "        return 1 / (1 + np.exp(-z))\n",
        "\n",
        "    def fit(self, X, y):\n",
        "        X = np.array(X, dtype=float)\n",
        "        y = np.array(y, dtype=float)\n",
        "        n, d = X.shape\n",
        "        self.w = np.zeros(d)\n",
        "        self.b = 0\n",
        "\n",
        "        for _ in range(self.epochs):\n",
        "            z = X.dot(self.w) + self.b\n",
        "            pred = self._sigmoid(z)\n",
        "            grad_w = (1/n) * X.T.dot(pred - y)\n",
        "            grad_b = (1/n) * np.sum(pred - y)\n",
        "            self.w -= self.lr * grad_w\n",
        "            self.b -= self.lr * grad_b\n",
        "\n",
        "    def predict_proba(self, X):\n",
        "        z = X.dot(self.w) + self.b\n",
        "        return self._sigmoid(z)\n",
        "\n",
        "    def predict(self, X, threshold=0.5):\n",
        "        return (self.predict_proba(X) >= threshold).astype(int)\n",
        "\n",
        "# ----------------- Hybrid Security Model -----------------\n",
        "class HybridSecurityModel:\n",
        "    def __init__(self):\n",
        "        self.classifier = SimpleLogisticRegression()\n",
        "        self.is_trained = False\n",
        "\n",
        "    # ---------- Numeric Data Pipeline ----------\n",
        "    def fit_numeric(self, X, y):\n",
        "        self.classifier.fit(X, y)\n",
        "        self.is_trained = True\n",
        "\n",
        "    def analyze_numeric(self, X_batch):\n",
        "        X_df = pd.DataFrame(X_batch)\n",
        "        results = []\n",
        "\n",
        "        # 1. Anomaly detection (z-score)\n",
        "        mean = X_df.mean()\n",
        "        std = X_df.std().replace(0, 1)\n",
        "        zscores = ((X_df - mean)/std).abs()\n",
        "        anomalies = (zscores > 2).any(axis=1).astype(int)\n",
        "\n",
        "        # 2. Classification\n",
        "        preds = self.classifier.predict(X_batch) if self.is_trained else [\"Unknown\"]*len(X_batch)\n",
        "\n",
        "        # 3. Sequence analysis (rolling mean spike)\n",
        "        rolling_mean = X_df.mean(axis=1).rolling(window=3, min_periods=1).mean()\n",
        "        seq_alert = (X_df.mean(axis=1) > rolling_mean*1.5).astype(int)\n",
        "\n",
        "        for i in range(len(X_batch)):\n",
        "            results.append({\n",
        "                \"Sample\": i,\n",
        "                \"AnomalyFlag\": anomalies.iloc[i],\n",
        "                \"Class\": preds[i],\n",
        "                \"SeqAlert\": seq_alert.iloc[i],\n",
        "                \"FinalAlert\": 1 if anomalies.iloc[i]==1 or seq_alert.iloc[i]==1 else 0\n",
        "            })\n",
        "        return pd.DataFrame(results)\n",
        "\n",
        "    # ---------- Log Data Pipeline ----------\n",
        "    def analyze_logs(self, df):\n",
        "        df = df.copy()\n",
        "\n",
        "        # 1. Anomaly detection (rare events)\n",
        "        event_counts = Counter(df[\"EventId\"])\n",
        "        df[\"AnomalyFlag\"] = df[\"EventId\"].apply(lambda x: 1 if event_counts[x]==1 else 0)\n",
        "\n",
        "        # 2. Classification (rule-based)\n",
        "        def classify(row):\n",
        "            content = row[\"Content\"].lower()\n",
        "            if (\"fail\" in content or \"error\" in content) and row[\"Level\"].lower()==\"info\":\n",
        "                return \"Mismatch\"\n",
        "            return \"OK\"\n",
        "        df[\"ClassCheck\"] = df.apply(classify, axis=1)\n",
        "\n",
        "        # 3. Sequence analysis\n",
        "        df = df.sort_values(\"LineId\")\n",
        "        df[\"LineGap\"] = df[\"LineId\"].diff().fillna(0).astype(int)\n",
        "        df[\"SeqAlert\"] = df[\"LineGap\"].apply(lambda g: 1 if g>1 else 0)\n",
        "\n",
        "        # Final alert\n",
        "        df[\"FinalAlert\"] = df.apply(\n",
        "            lambda r: 1 if (r.AnomalyFlag==1 or r.ClassCheck==\"Mismatch\" or r.SeqAlert==1) else 0,\n",
        "            axis=1\n",
        "        )\n",
        "        return df[[\"LineId\",\"EventId\",\"Level\",\"AnomalyFlag\",\"ClassCheck\",\"SeqAlert\",\"FinalAlert\"]]\n",
        "\n"
      ],
      "metadata": {
        "id": "GPqxAly-UOq8"
      },
      "execution_count": null,
      "outputs": []
    },
    {
      "cell_type": "markdown",
      "source": [
        "Running Sample Test with Small Amount Of Numeric Data"
      ],
      "metadata": {
        "id": "osDv2N-MUZky"
      }
    },
    {
      "cell_type": "code",
      "source": [
        "# ----------------- SAMPLE TEST -----------------\n",
        "if __name__ == \"__main__\":\n",
        "    model = HybridSecurityModel()\n",
        "\n",
        "    # ---------- Numeric Test ----------\n",
        "    X_train = np.array([[1,2],[2,1],[2,2],[3,3],[10,10]])\n",
        "    y_train = np.array([0,0,0,0,1])\n",
        "    model.fit_numeric(X_train, y_train)\n",
        "\n",
        "    X_batch = np.array([[2,2],[3,4],[9,9],[11,11],[2,1]])\n",
        "    print(\"\\n--- Numeric Data Analysis ---\")\n",
        "    print(model.analyze_numeric(X_batch))\n"
      ],
      "metadata": {
        "colab": {
          "base_uri": "https://localhost:8080/"
        },
        "id": "Q-th9ybTUY3s",
        "outputId": "892956ae-4ae3-43f0-8f1b-294adde5de8d"
      },
      "execution_count": null,
      "outputs": [
        {
          "output_type": "stream",
          "name": "stdout",
          "text": [
            "\n",
            "--- Numeric Data Analysis ---\n",
            "   Sample  AnomalyFlag  Class  SeqAlert  FinalAlert\n",
            "0       0            0      0         0           0\n",
            "1       1            0      0         0           0\n",
            "2       2            0      1         1           1\n",
            "3       3            0      1         0           0\n",
            "4       4            0      0         0           0\n"
          ]
        }
      ]
    },
    {
      "cell_type": "markdown",
      "source": [
        "Feeding Our Model real World Data"
      ],
      "metadata": {
        "id": "liEzhiUERnbO"
      }
    },
    {
      "cell_type": "code",
      "source": [
        "    # ---------- Log Test ----------\n",
        "    log_data = [\n",
        "        [1,\"2016-09-28\",\"04:30:30\",\"Info\",\"CBS\",\"Loaded Servicing Stack v6.1.7601.23505...\",\"E23\"],\n",
        "        [2,\"2016-09-28\",\"04:30:31\",\"Info\",\"CSI\",\"00000001@2016/9/27:20:30:31.455 WcpInitialize...\",\"E13\"],\n",
        "        [3,\"2016-09-28\",\"04:30:31\",\"Info\",\"CSI\",\"00000002@2016/9/27:20:30:31.458 WcpInitialize...\",\"E13\"],\n",
        "        [5,\"2016-09-28\",\"04:30:31\",\"Info\",\"CBS\",\"Ending TrustedInstaller initialization.\",\"E17\"],\n",
        "        [11,\"2016-09-28\",\"04:30:31\",\"Info\",\"CBS\",\"SQM: Failed to start upload... HRESULT=0x80004005\",\"E39\"],\n",
        "        [14,\"2016-09-28\",\"04:30:31\",\"Info\",\"CBS\",\"SQM: Warning: Failed to upload all unsent reports.\",\"E43\"],\n",
        "    ]\n",
        "    df_logs = pd.DataFrame(log_data, columns=[\"LineId\",\"Date\",\"Time\",\"Level\",\"Component\",\"Content\",\"EventId\"])\n",
        "\n",
        "    print(\"\\n--- Log Data Analysis ---\")\n",
        "    print(model.analyze_logs(df_logs))\n"
      ],
      "metadata": {
        "colab": {
          "base_uri": "https://localhost:8080/"
        },
        "id": "NZpkk-DXUS7q",
        "outputId": "c1fb79c0-7487-4808-e2ed-025b3fba7456"
      },
      "execution_count": null,
      "outputs": [
        {
          "output_type": "stream",
          "name": "stdout",
          "text": [
            "\n",
            "--- Log Data Analysis ---\n",
            "   LineId EventId Level  AnomalyFlag ClassCheck  SeqAlert  FinalAlert\n",
            "0       1     E23  Info            1         OK         0           1\n",
            "1       2     E13  Info            0         OK         0           0\n",
            "2       3     E13  Info            0         OK         0           0\n",
            "3       5     E17  Info            1         OK         1           1\n",
            "4      11     E39  Info            1   Mismatch         1           1\n",
            "5      14     E43  Info            1   Mismatch         1           1\n"
          ]
        }
      ]
    }
  ]
}