{
  "nbformat": 4,
  "nbformat_minor": 0,
  "metadata": {
    "colab": {
      "provenance": [],
      "authorship_tag": "ABX9TyMhTqWrFpQmhCBfEXVGmtwK",
      "include_colab_link": true
    },
    "kernelspec": {
      "name": "python3",
      "display_name": "Python 3"
    },
    "language_info": {
      "name": "python"
    }
  },
  "cells": [
    {
      "cell_type": "markdown",
      "metadata": {
        "id": "view-in-github",
        "colab_type": "text"
      },
      "source": [
        "<a href=\"https://colab.research.google.com/github/CyberMetrics/Prototypes/blob/main/Prototype_002.ipynb\" target=\"_parent\"><img src=\"https://colab.research.google.com/assets/colab-badge.svg\" alt=\"Open In Colab\"/></a>"
      ]
    },
    {
      "cell_type": "markdown",
      "source": [
        "A Base Model That Can Be Able To Do Three At a Time(Anomaly,Classify,Time Series)"
      ],
      "metadata": {
        "id": "gcEeaBXzPZzG"
      }
    },
    {
      "cell_type": "code",
      "source": [
        "import pandas as pd\n",
        "from collections import Counter\n",
        "from sklearn.ensemble import IsolationForest\n",
        "from sklearn.linear_model import LogisticRegression\n",
        "import numpy as np\n",
        "\n",
        "class HybridSecurityModel:\n",
        "    def __init__(self):\n",
        "        self.num_model = None\n",
        "        self.is_trained = False\n",
        "\n",
        "    # ----------- Numeric Data Pipeline -----------\n",
        "    def fit_numeric(self, X, y):\n",
        "        # Simple classifier\n",
        "        self.num_model = LogisticRegression()\n",
        "        self.num_model.fit(X, y)\n",
        "        self.is_trained = True\n",
        "\n",
        "    def analyze_numeric(self, X_batch):\n",
        "        results = []\n",
        "        # 1. Anomaly Detection (Isolation Forest)\n",
        "        iso = IsolationForest(contamination=0.2, random_state=42)\n",
        "        iso.fit(X_batch)\n",
        "        anomalies = iso.predict(X_batch)  # -1 = anomaly\n",
        "\n",
        "        # 2. Classification (Logistic Regression if trained)\n",
        "        preds = self.num_model.predict(X_batch) if self.is_trained else [\"Unknown\"] * len(X_batch)\n",
        "\n",
        "        # 3. Sequence/Time analysis (rolling mean check)\n",
        "        rolling_mean = pd.DataFrame(X_batch).mean(axis=1).rolling(window=3, min_periods=1).mean()\n",
        "        seq_alert = (pd.DataFrame(X_batch).mean(axis=1) > rolling_mean * 1.5).astype(int)\n",
        "\n",
        "        for i in range(len(X_batch)):\n",
        "            results.append({\n",
        "                \"Sample\": i,\n",
        "                \"AnomalyFlag\": 1 if anomalies[i] == -1 else 0,\n",
        "                \"Class\": preds[i],\n",
        "                \"SeqAlert\": int(seq_alert.iloc[i]),\n",
        "                \"FinalAlert\": 1 if (anomalies[i]==-1 or seq_alert.iloc[i]==1) else 0\n",
        "            })\n",
        "        return pd.DataFrame(results)\n",
        "\n",
        "    # ----------- Log Data Pipeline -----------\n",
        "    def analyze_logs(self, df):\n",
        "        df = df.copy()\n",
        "\n",
        "        # Module 1: Anomaly Detection (rare events)\n",
        "        event_counts = Counter(df[\"EventId\"])\n",
        "        rare_threshold = 1\n",
        "        df[\"AnomalyFlag\"] = df[\"EventId\"].apply(lambda x: 1 if event_counts[x] <= rare_threshold else 0)\n",
        "\n",
        "        # Module 2: Classification (simple rule)\n",
        "        def classify(row):\n",
        "            if (\"fail\" in row[\"Content\"].lower() or \"error\" in row[\"Content\"].lower()) and row[\"Level\"].lower()==\"info\":\n",
        "                return \"Mismatch\"\n",
        "            return \"OK\"\n",
        "        df[\"ClassCheck\"] = df.apply(classify, axis=1)\n",
        "\n",
        "        # Module 3: Sequence Analysis\n",
        "        df = df.sort_values(by=\"LineId\")\n",
        "        df[\"LineGap\"] = df[\"LineId\"].diff().fillna(0).astype(int)\n",
        "        df[\"SeqAlert\"] = df[\"LineGap\"].apply(lambda g: 1 if g>1 else 0)\n",
        "\n",
        "        # Final decision\n",
        "        df[\"FinalAlert\"] = df.apply(\n",
        "            lambda r: 1 if (r.AnomalyFlag or r.ClassCheck==\"Mismatch\" or r.SeqAlert) else 0, axis=1\n",
        "        )\n",
        "        return df[[\"LineId\",\"EventId\",\"Level\",\"AnomalyFlag\",\"ClassCheck\",\"SeqAlert\",\"FinalAlert\"]]\n",
        "\n"
      ],
      "metadata": {
        "id": "bF9CQ8VySanM"
      },
      "execution_count": 9,
      "outputs": []
    },
    {
      "cell_type": "markdown",
      "source": [
        "Feeding Our Model real World Data"
      ],
      "metadata": {
        "id": "liEzhiUERnbO"
      }
    },
    {
      "cell_type": "code",
      "source": [
        "\n",
        "    # Log data sample\n",
        "    data = [\n",
        "        [1,\"2016-09-28\",\"04:30:30\",\"Info\",\"CBS\",\"Loaded Servicing Stack v6.1.7601.23505...\",\"E23\"],\n",
        "        [2,\"2016-09-28\",\"04:30:31\",\"Info\",\"CSI\",\"00000001@2016/9/27:20:30:31.455 WcpInitialize...\",\"E13\"],\n",
        "        [3,\"2016-09-28\",\"04:30:31\",\"Info\",\"CSI\",\"00000002@2016/9/27:20:30:31.458 WcpInitialize...\",\"E13\"],\n",
        "        [5,\"2016-09-28\",\"04:30:31\",\"Info\",\"CBS\",\"Ending TrustedInstaller initialization.\",\"E17\"],\n",
        "        [11,\"2016-09-28\",\"04:30:31\",\"Info\",\"CBS\",\"SQM: Failed to start upload... HRESULT=0x80004005\",\"E39\"],\n",
        "        [14,\"2016-09-28\",\"04:30:31\",\"Info\",\"CBS\",\"SQM: Warning: Failed to upload all unsent reports.\",\"E43\"],\n",
        "    ]\n",
        "    df_logs = pd.DataFrame(data, columns=[\"LineId\",\"Date\",\"Time\",\"Level\",\"Component\",\"Content\",\"EventId\"])\n",
        "\n",
        "    print(\"\\n--- Log Data Analysis ---\")\n",
        "    print(model.analyze_logs(df_logs))"
      ],
      "metadata": {
        "colab": {
          "base_uri": "https://localhost:8080/"
        },
        "id": "gvNEbPzESiIs",
        "outputId": "306a796f-21e8-4d81-92e8-7386a2beaddf"
      },
      "execution_count": 10,
      "outputs": [
        {
          "output_type": "stream",
          "name": "stdout",
          "text": [
            "\n",
            "--- Log Data Analysis ---\n",
            "   LineId EventId Level  AnomalyFlag ClassCheck  SeqAlert  FinalAlert\n",
            "0       1     E23  Info            1         OK         0           1\n",
            "1       2     E13  Info            0         OK         0           0\n",
            "2       3     E13  Info            0         OK         0           0\n",
            "3       5     E17  Info            1         OK         1           1\n",
            "4      11     E39  Info            1   Mismatch         1           1\n",
            "5      14     E43  Info            1   Mismatch         1           1\n"
          ]
        }
      ]
    }
  ]
}