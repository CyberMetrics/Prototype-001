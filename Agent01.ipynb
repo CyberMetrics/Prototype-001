{
  "nbformat": 4,
  "nbformat_minor": 0,
  "metadata": {
    "colab": {
      "provenance": [],
      "authorship_tag": "ABX9TyNvFE44DlM2V/HiE9lamZM+",
      "include_colab_link": true
    },
    "kernelspec": {
      "name": "python3",
      "display_name": "Python 3"
    },
    "language_info": {
      "name": "python"
    }
  },
  "cells": [
    {
      "cell_type": "markdown",
      "metadata": {
        "id": "view-in-github",
        "colab_type": "text"
      },
      "source": [
        "<a href=\"https://colab.research.google.com/github/CyberMetrics/Prototypes/blob/main/Agent01.ipynb\" target=\"_parent\"><img src=\"https://colab.research.google.com/assets/colab-badge.svg\" alt=\"Open In Colab\"/></a>"
      ]
    },
    {
      "cell_type": "code",
      "source": [
        "from google.colab import drive;drive.mount(\"/content/drive\")"
      ],
      "metadata": {
        "colab": {
          "base_uri": "https://localhost:8080/"
        },
        "id": "peKsOLXSaXKW",
        "outputId": "5ec7adb2-88c3-4c66-de76-0b18d5341944"
      },
      "execution_count": 8,
      "outputs": [
        {
          "output_type": "stream",
          "name": "stdout",
          "text": [
            "Mounted at /content/drive\n"
          ]
        }
      ]
    },
    {
      "cell_type": "code",
      "source": [
        "import time\n",
        "import random\n",
        "import json\n",
        "import pandas as pd\n",
        "from datetime import datetime, timedelta\n",
        "from typing import Dict, Any, List\n",
        "\n",
        "\n",
        "#           in a separate cell before running this. ---\n",
        "\n",
        "# [Your CustomAgentLogGenerator Class Definition is Unchanged]\n",
        "# [Your generate_single_simulated_event function is Unchanged]\n",
        "# ... (Class and supporting functions from previous response) ...\n",
        "\n",
        "# --- NEW: Define the Persistent Google Drive Path ---\n",
        "# Replace 'YOUR_CAPSTONE_FOLDER' with the actual path in your Drive\n",
        "DRIVE_OUTPUT_PATH = '/content/drive/MyDrive/Capstone Mark-01/live_security_feed.json'\n",
        "\n",
        "if __name__ == \"__main__\":\n",
        "\n",
        "    # Initialization\n",
        "    agent = CustomAgentLogGenerator(\n",
        "        agent_id=\"001\",\n",
        "        agent_name=\"firewall-gateway\",\n",
        "        system_os=\"centos\"\n",
        "    )\n",
        "\n",
        "    event_counter = 0\n",
        "\n",
        "    print(f\"--- 🔄 Continuous Agent Data Writer Started ---\")\n",
        "    print(f\"Saving to GDrive Path: {DRIVE_OUTPUT_PATH}\")\n",
        "    print(\"Stop the kernel/execution to finish.\")\n",
        "    print(\"-\" * 50)\n",
        "\n",
        "    try:\n",
        "        while True:\n",
        "            event_counter += 1\n",
        "\n",
        "            # 1. Generate and Process a single event\n",
        "            raw_event = generate_single_simulated_event(event_counter)\n",
        "            processed_log = agent.process_data_record(raw_event)\n",
        "\n",
        "            # 2. Write the JSON log to the Google Drive file in append mode ('a')\n",
        "            # The 'a' mode ensures new data is added without overwriting old data.\n",
        "            with open(DRIVE_OUTPUT_PATH, 'a') as f:\n",
        "                f.write(json.dumps(processed_log) + \"\\n\")\n",
        "\n",
        "            # 3. Print status and event count\n",
        "            print(f\"| {datetime.now().strftime('%H:%M:%S')} | Count: {event_counter} | Severity: {processed_log['severity'].upper():<8} | Rule ID: {processed_log['rule_id']} | WROTE TO DRIVE |\")\n",
        "\n",
        "            # Shorter delay to simulate a faster live feed\n",
        "            time.sleep(random.uniform(0.1, 0.5))\n",
        "\n",
        "    except KeyboardInterrupt:\n",
        "        print(\"\\n\\n--- 🛑 Agent Writer Interrupted by User ---\")\n",
        "\n",
        "    finally:\n",
        "        print(f\"✅ Total Events Generated and Saved to Drive: {event_counter}\")"
      ],
      "metadata": {
        "colab": {
          "base_uri": "https://localhost:8080/"
        },
        "id": "bylEQzyKXP6l",
        "outputId": "fc8a6cd3-96e3-48a4-9692-c064bd182722"
      },
      "execution_count": 9,
      "outputs": [
        {
          "output_type": "stream",
          "name": "stdout",
          "text": [
            "--- 🔄 Continuous Agent Data Writer Started ---\n",
            "Saving to GDrive Path: /content/drive/MyDrive/Capstone Mark-01/live_security_feed.json\n",
            "Stop the kernel/execution to finish.\n",
            "--------------------------------------------------\n",
            "| 18:38:50 | Count: 1 | Severity: LOW      | Rule ID: 900319 | WROTE TO DRIVE |\n",
            "| 18:38:51 | Count: 2 | Severity: LOW      | Rule ID: 900349 | WROTE TO DRIVE |\n",
            "| 18:38:51 | Count: 3 | Severity: HIGH     | Rule ID: 900381 | WROTE TO DRIVE |\n",
            "| 18:38:51 | Count: 4 | Severity: MEDIUM   | Rule ID: 900332 | WROTE TO DRIVE |\n",
            "| 18:38:52 | Count: 5 | Severity: HIGH     | Rule ID: 900311 | WROTE TO DRIVE |\n",
            "| 18:38:52 | Count: 6 | Severity: LOW      | Rule ID: 900359 | WROTE TO DRIVE |\n",
            "| 18:38:52 | Count: 7 | Severity: MEDIUM   | Rule ID: 900367 | WROTE TO DRIVE |\n",
            "| 18:38:53 | Count: 8 | Severity: MEDIUM   | Rule ID: 900303 | WROTE TO DRIVE |\n",
            "| 18:38:53 | Count: 9 | Severity: HIGH     | Rule ID: 900340 | WROTE TO DRIVE |\n",
            "| 18:38:53 | Count: 10 | Severity: LOW      | Rule ID: 900376 | WROTE TO DRIVE |\n",
            "| 18:38:54 | Count: 11 | Severity: MEDIUM   | Rule ID: 900335 | WROTE TO DRIVE |\n",
            "| 18:38:54 | Count: 12 | Severity: MEDIUM   | Rule ID: 900357 | WROTE TO DRIVE |\n",
            "| 18:38:55 | Count: 13 | Severity: LOW      | Rule ID: 900311 | WROTE TO DRIVE |\n",
            "| 18:38:55 | Count: 14 | Severity: LOW      | Rule ID: 900324 | WROTE TO DRIVE |\n",
            "| 18:38:55 | Count: 15 | Severity: MEDIUM   | Rule ID: 900386 | WROTE TO DRIVE |\n",
            "| 18:38:55 | Count: 16 | Severity: MEDIUM   | Rule ID: 900343 | WROTE TO DRIVE |\n",
            "| 18:38:56 | Count: 17 | Severity: CRITICAL | Rule ID: 900101 | WROTE TO DRIVE |\n",
            "| 18:38:56 | Count: 18 | Severity: MEDIUM   | Rule ID: 900398 | WROTE TO DRIVE |\n",
            "| 18:38:56 | Count: 19 | Severity: CRITICAL | Rule ID: 900101 | WROTE TO DRIVE |\n",
            "| 18:38:57 | Count: 20 | Severity: LOW      | Rule ID: 900319 | WROTE TO DRIVE |\n",
            "| 18:38:57 | Count: 21 | Severity: MEDIUM   | Rule ID: 900308 | WROTE TO DRIVE |\n",
            "| 18:38:57 | Count: 22 | Severity: LOW      | Rule ID: 900352 | WROTE TO DRIVE |\n",
            "| 18:38:57 | Count: 23 | Severity: LOW      | Rule ID: 900339 | WROTE TO DRIVE |\n",
            "| 18:38:58 | Count: 24 | Severity: LOW      | Rule ID: 900361 | WROTE TO DRIVE |\n",
            "\n",
            "\n",
            "--- 🛑 Agent Writer Interrupted by User ---\n",
            "✅ Total Events Generated and Saved to Drive: 24\n"
          ]
        }
      ]
    }
  ]
}